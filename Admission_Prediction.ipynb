{
 "cells": [
  {
   "cell_type": "code",
   "execution_count": 1,
   "id": "be89f8d0",
   "metadata": {
    "_cell_guid": "b1076dfc-b9ad-4769-8c92-a6c4dae69d19",
    "_uuid": "8f2839f25d086af736a60e9eeb907d3b93b6e0e5",
    "execution": {
     "iopub.execute_input": "2025-02-26T16:57:39.406114Z",
     "iopub.status.busy": "2025-02-26T16:57:39.405773Z",
     "iopub.status.idle": "2025-02-26T16:57:40.553130Z",
     "shell.execute_reply": "2025-02-26T16:57:40.552264Z"
    },
    "papermill": {
     "duration": 1.154417,
     "end_time": "2025-02-26T16:57:40.554827",
     "exception": false,
     "start_time": "2025-02-26T16:57:39.400410",
     "status": "completed"
    },
    "tags": []
   },
   "outputs": [
    {
     "name": "stdout",
     "output_type": "stream",
     "text": [
      "/kaggle/input/graduate-admissions/Admission_Predict.csv\n",
      "/kaggle/input/graduate-admissions/Admission_Predict_Ver1.1.csv\n"
     ]
    }
   ],
   "source": [
    "# This Python 3 environment comes with many helpful analytics libraries installed\n",
    "# It is defined by the kaggle/python Docker image: https://github.com/kaggle/docker-python\n",
    "# For example, here's several helpful packages to load\n",
    "\n",
    "import numpy as np # linear algebra\n",
    "import pandas as pd # data processing, CSV file I/O (e.g. pd.read_csv)\n",
    "\n",
    "# Input data files are available in the read-only \"../input/\" directory\n",
    "# For example, running this (by clicking run or pressing Shift+Enter) will list all files under the input directory\n",
    "\n",
    "import os\n",
    "for dirname, _, filenames in os.walk('/kaggle/input'):\n",
    "    for filename in filenames:\n",
    "        print(os.path.join(dirname, filename))\n",
    "\n",
    "# You can write up to 20GB to the current directory (/kaggle/working/) that gets preserved as output when you create a version using \"Save & Run All\" \n",
    "# You can also write temporary files to /kaggle/temp/, but they won't be saved outside of the current session"
   ]
  },
  {
   "cell_type": "code",
   "execution_count": 2,
   "id": "b16539e3",
   "metadata": {
    "execution": {
     "iopub.execute_input": "2025-02-26T16:57:40.563721Z",
     "iopub.status.busy": "2025-02-26T16:57:40.563264Z",
     "iopub.status.idle": "2025-02-26T16:57:40.585582Z",
     "shell.execute_reply": "2025-02-26T16:57:40.584656Z"
    },
    "papermill": {
     "duration": 0.02826,
     "end_time": "2025-02-26T16:57:40.587133",
     "exception": false,
     "start_time": "2025-02-26T16:57:40.558873",
     "status": "completed"
    },
    "tags": []
   },
   "outputs": [],
   "source": [
    "df = pd.read_csv('/kaggle/input/graduate-admissions/Admission_Predict_Ver1.1.csv')"
   ]
  },
  {
   "cell_type": "code",
   "execution_count": 3,
   "id": "b171e187",
   "metadata": {
    "execution": {
     "iopub.execute_input": "2025-02-26T16:57:40.596756Z",
     "iopub.status.busy": "2025-02-26T16:57:40.596423Z",
     "iopub.status.idle": "2025-02-26T16:57:40.628924Z",
     "shell.execute_reply": "2025-02-26T16:57:40.628006Z"
    },
    "papermill": {
     "duration": 0.038946,
     "end_time": "2025-02-26T16:57:40.630255",
     "exception": false,
     "start_time": "2025-02-26T16:57:40.591309",
     "status": "completed"
    },
    "tags": []
   },
   "outputs": [
    {
     "data": {
      "text/html": [
       "<div>\n",
       "<style scoped>\n",
       "    .dataframe tbody tr th:only-of-type {\n",
       "        vertical-align: middle;\n",
       "    }\n",
       "\n",
       "    .dataframe tbody tr th {\n",
       "        vertical-align: top;\n",
       "    }\n",
       "\n",
       "    .dataframe thead th {\n",
       "        text-align: right;\n",
       "    }\n",
       "</style>\n",
       "<table border=\"1\" class=\"dataframe\">\n",
       "  <thead>\n",
       "    <tr style=\"text-align: right;\">\n",
       "      <th></th>\n",
       "      <th>Serial No.</th>\n",
       "      <th>GRE Score</th>\n",
       "      <th>TOEFL Score</th>\n",
       "      <th>University Rating</th>\n",
       "      <th>SOP</th>\n",
       "      <th>LOR</th>\n",
       "      <th>CGPA</th>\n",
       "      <th>Research</th>\n",
       "      <th>Chance of Admit</th>\n",
       "    </tr>\n",
       "  </thead>\n",
       "  <tbody>\n",
       "    <tr>\n",
       "      <th>57</th>\n",
       "      <td>58</td>\n",
       "      <td>298</td>\n",
       "      <td>99</td>\n",
       "      <td>2</td>\n",
       "      <td>4.0</td>\n",
       "      <td>2.0</td>\n",
       "      <td>7.60</td>\n",
       "      <td>0</td>\n",
       "      <td>0.46</td>\n",
       "    </tr>\n",
       "    <tr>\n",
       "      <th>110</th>\n",
       "      <td>111</td>\n",
       "      <td>305</td>\n",
       "      <td>108</td>\n",
       "      <td>5</td>\n",
       "      <td>3.0</td>\n",
       "      <td>3.0</td>\n",
       "      <td>8.48</td>\n",
       "      <td>0</td>\n",
       "      <td>0.61</td>\n",
       "    </tr>\n",
       "    <tr>\n",
       "      <th>184</th>\n",
       "      <td>185</td>\n",
       "      <td>316</td>\n",
       "      <td>106</td>\n",
       "      <td>2</td>\n",
       "      <td>2.5</td>\n",
       "      <td>4.0</td>\n",
       "      <td>8.32</td>\n",
       "      <td>0</td>\n",
       "      <td>0.72</td>\n",
       "    </tr>\n",
       "    <tr>\n",
       "      <th>131</th>\n",
       "      <td>132</td>\n",
       "      <td>303</td>\n",
       "      <td>105</td>\n",
       "      <td>5</td>\n",
       "      <td>5.0</td>\n",
       "      <td>4.5</td>\n",
       "      <td>8.65</td>\n",
       "      <td>0</td>\n",
       "      <td>0.77</td>\n",
       "    </tr>\n",
       "    <tr>\n",
       "      <th>145</th>\n",
       "      <td>146</td>\n",
       "      <td>320</td>\n",
       "      <td>113</td>\n",
       "      <td>2</td>\n",
       "      <td>2.0</td>\n",
       "      <td>2.5</td>\n",
       "      <td>8.64</td>\n",
       "      <td>1</td>\n",
       "      <td>0.81</td>\n",
       "    </tr>\n",
       "  </tbody>\n",
       "</table>\n",
       "</div>"
      ],
      "text/plain": [
       "     Serial No.  GRE Score  TOEFL Score  University Rating  SOP  LOR   CGPA  \\\n",
       "57           58        298           99                  2  4.0   2.0  7.60   \n",
       "110         111        305          108                  5  3.0   3.0  8.48   \n",
       "184         185        316          106                  2  2.5   4.0  8.32   \n",
       "131         132        303          105                  5  5.0   4.5  8.65   \n",
       "145         146        320          113                  2  2.0   2.5  8.64   \n",
       "\n",
       "     Research  Chance of Admit   \n",
       "57          0              0.46  \n",
       "110         0              0.61  \n",
       "184         0              0.72  \n",
       "131         0              0.77  \n",
       "145         1              0.81  "
      ]
     },
     "execution_count": 3,
     "metadata": {},
     "output_type": "execute_result"
    }
   ],
   "source": [
    "df.sample(5)"
   ]
  },
  {
   "cell_type": "code",
   "execution_count": 4,
   "id": "9a901abc",
   "metadata": {
    "execution": {
     "iopub.execute_input": "2025-02-26T16:57:40.638829Z",
     "iopub.status.busy": "2025-02-26T16:57:40.638513Z",
     "iopub.status.idle": "2025-02-26T16:57:40.662735Z",
     "shell.execute_reply": "2025-02-26T16:57:40.661452Z"
    },
    "papermill": {
     "duration": 0.030135,
     "end_time": "2025-02-26T16:57:40.664384",
     "exception": false,
     "start_time": "2025-02-26T16:57:40.634249",
     "status": "completed"
    },
    "tags": []
   },
   "outputs": [
    {
     "name": "stdout",
     "output_type": "stream",
     "text": [
      "<class 'pandas.core.frame.DataFrame'>\n",
      "RangeIndex: 500 entries, 0 to 499\n",
      "Data columns (total 9 columns):\n",
      " #   Column             Non-Null Count  Dtype  \n",
      "---  ------             --------------  -----  \n",
      " 0   Serial No.         500 non-null    int64  \n",
      " 1   GRE Score          500 non-null    int64  \n",
      " 2   TOEFL Score        500 non-null    int64  \n",
      " 3   University Rating  500 non-null    int64  \n",
      " 4   SOP                500 non-null    float64\n",
      " 5   LOR                500 non-null    float64\n",
      " 6   CGPA               500 non-null    float64\n",
      " 7   Research           500 non-null    int64  \n",
      " 8   Chance of Admit    500 non-null    float64\n",
      "dtypes: float64(4), int64(5)\n",
      "memory usage: 35.3 KB\n"
     ]
    }
   ],
   "source": [
    "df.info()"
   ]
  },
  {
   "cell_type": "code",
   "execution_count": 5,
   "id": "8bbe4414",
   "metadata": {
    "execution": {
     "iopub.execute_input": "2025-02-26T16:57:40.674280Z",
     "iopub.status.busy": "2025-02-26T16:57:40.673943Z",
     "iopub.status.idle": "2025-02-26T16:57:40.678269Z",
     "shell.execute_reply": "2025-02-26T16:57:40.677506Z"
    },
    "papermill": {
     "duration": 0.010972,
     "end_time": "2025-02-26T16:57:40.679420",
     "exception": false,
     "start_time": "2025-02-26T16:57:40.668448",
     "status": "completed"
    },
    "tags": []
   },
   "outputs": [],
   "source": [
    "df.drop(columns = ['Serial No.'], inplace = True)"
   ]
  },
  {
   "cell_type": "code",
   "execution_count": 6,
   "id": "ea089434",
   "metadata": {
    "execution": {
     "iopub.execute_input": "2025-02-26T16:57:40.688258Z",
     "iopub.status.busy": "2025-02-26T16:57:40.687917Z",
     "iopub.status.idle": "2025-02-26T16:57:40.692748Z",
     "shell.execute_reply": "2025-02-26T16:57:40.691984Z"
    },
    "papermill": {
     "duration": 0.010547,
     "end_time": "2025-02-26T16:57:40.694074",
     "exception": false,
     "start_time": "2025-02-26T16:57:40.683527",
     "status": "completed"
    },
    "tags": []
   },
   "outputs": [
    {
     "data": {
      "text/plain": [
       "(500, 8)"
      ]
     },
     "execution_count": 6,
     "metadata": {},
     "output_type": "execute_result"
    }
   ],
   "source": [
    "df.shape"
   ]
  },
  {
   "cell_type": "code",
   "execution_count": 7,
   "id": "d6465655",
   "metadata": {
    "execution": {
     "iopub.execute_input": "2025-02-26T16:57:40.703246Z",
     "iopub.status.busy": "2025-02-26T16:57:40.702798Z",
     "iopub.status.idle": "2025-02-26T16:57:40.707928Z",
     "shell.execute_reply": "2025-02-26T16:57:40.706954Z"
    },
    "papermill": {
     "duration": 0.011294,
     "end_time": "2025-02-26T16:57:40.709395",
     "exception": false,
     "start_time": "2025-02-26T16:57:40.698101",
     "status": "completed"
    },
    "tags": []
   },
   "outputs": [],
   "source": [
    "X = df.iloc[:, :-1]\n",
    "y = df.iloc[:, -1]"
   ]
  },
  {
   "cell_type": "code",
   "execution_count": 8,
   "id": "948b773a",
   "metadata": {
    "execution": {
     "iopub.execute_input": "2025-02-26T16:57:40.718715Z",
     "iopub.status.busy": "2025-02-26T16:57:40.718342Z",
     "iopub.status.idle": "2025-02-26T16:57:40.730223Z",
     "shell.execute_reply": "2025-02-26T16:57:40.728760Z"
    },
    "papermill": {
     "duration": 0.018565,
     "end_time": "2025-02-26T16:57:40.732166",
     "exception": false,
     "start_time": "2025-02-26T16:57:40.713601",
     "status": "completed"
    },
    "tags": []
   },
   "outputs": [
    {
     "data": {
      "text/html": [
       "<div>\n",
       "<style scoped>\n",
       "    .dataframe tbody tr th:only-of-type {\n",
       "        vertical-align: middle;\n",
       "    }\n",
       "\n",
       "    .dataframe tbody tr th {\n",
       "        vertical-align: top;\n",
       "    }\n",
       "\n",
       "    .dataframe thead th {\n",
       "        text-align: right;\n",
       "    }\n",
       "</style>\n",
       "<table border=\"1\" class=\"dataframe\">\n",
       "  <thead>\n",
       "    <tr style=\"text-align: right;\">\n",
       "      <th></th>\n",
       "      <th>GRE Score</th>\n",
       "      <th>TOEFL Score</th>\n",
       "      <th>University Rating</th>\n",
       "      <th>SOP</th>\n",
       "      <th>LOR</th>\n",
       "      <th>CGPA</th>\n",
       "      <th>Research</th>\n",
       "    </tr>\n",
       "  </thead>\n",
       "  <tbody>\n",
       "    <tr>\n",
       "      <th>0</th>\n",
       "      <td>337</td>\n",
       "      <td>118</td>\n",
       "      <td>4</td>\n",
       "      <td>4.5</td>\n",
       "      <td>4.5</td>\n",
       "      <td>9.65</td>\n",
       "      <td>1</td>\n",
       "    </tr>\n",
       "    <tr>\n",
       "      <th>1</th>\n",
       "      <td>324</td>\n",
       "      <td>107</td>\n",
       "      <td>4</td>\n",
       "      <td>4.0</td>\n",
       "      <td>4.5</td>\n",
       "      <td>8.87</td>\n",
       "      <td>1</td>\n",
       "    </tr>\n",
       "    <tr>\n",
       "      <th>2</th>\n",
       "      <td>316</td>\n",
       "      <td>104</td>\n",
       "      <td>3</td>\n",
       "      <td>3.0</td>\n",
       "      <td>3.5</td>\n",
       "      <td>8.00</td>\n",
       "      <td>1</td>\n",
       "    </tr>\n",
       "    <tr>\n",
       "      <th>3</th>\n",
       "      <td>322</td>\n",
       "      <td>110</td>\n",
       "      <td>3</td>\n",
       "      <td>3.5</td>\n",
       "      <td>2.5</td>\n",
       "      <td>8.67</td>\n",
       "      <td>1</td>\n",
       "    </tr>\n",
       "    <tr>\n",
       "      <th>4</th>\n",
       "      <td>314</td>\n",
       "      <td>103</td>\n",
       "      <td>2</td>\n",
       "      <td>2.0</td>\n",
       "      <td>3.0</td>\n",
       "      <td>8.21</td>\n",
       "      <td>0</td>\n",
       "    </tr>\n",
       "    <tr>\n",
       "      <th>...</th>\n",
       "      <td>...</td>\n",
       "      <td>...</td>\n",
       "      <td>...</td>\n",
       "      <td>...</td>\n",
       "      <td>...</td>\n",
       "      <td>...</td>\n",
       "      <td>...</td>\n",
       "    </tr>\n",
       "    <tr>\n",
       "      <th>495</th>\n",
       "      <td>332</td>\n",
       "      <td>108</td>\n",
       "      <td>5</td>\n",
       "      <td>4.5</td>\n",
       "      <td>4.0</td>\n",
       "      <td>9.02</td>\n",
       "      <td>1</td>\n",
       "    </tr>\n",
       "    <tr>\n",
       "      <th>496</th>\n",
       "      <td>337</td>\n",
       "      <td>117</td>\n",
       "      <td>5</td>\n",
       "      <td>5.0</td>\n",
       "      <td>5.0</td>\n",
       "      <td>9.87</td>\n",
       "      <td>1</td>\n",
       "    </tr>\n",
       "    <tr>\n",
       "      <th>497</th>\n",
       "      <td>330</td>\n",
       "      <td>120</td>\n",
       "      <td>5</td>\n",
       "      <td>4.5</td>\n",
       "      <td>5.0</td>\n",
       "      <td>9.56</td>\n",
       "      <td>1</td>\n",
       "    </tr>\n",
       "    <tr>\n",
       "      <th>498</th>\n",
       "      <td>312</td>\n",
       "      <td>103</td>\n",
       "      <td>4</td>\n",
       "      <td>4.0</td>\n",
       "      <td>5.0</td>\n",
       "      <td>8.43</td>\n",
       "      <td>0</td>\n",
       "    </tr>\n",
       "    <tr>\n",
       "      <th>499</th>\n",
       "      <td>327</td>\n",
       "      <td>113</td>\n",
       "      <td>4</td>\n",
       "      <td>4.5</td>\n",
       "      <td>4.5</td>\n",
       "      <td>9.04</td>\n",
       "      <td>0</td>\n",
       "    </tr>\n",
       "  </tbody>\n",
       "</table>\n",
       "<p>500 rows × 7 columns</p>\n",
       "</div>"
      ],
      "text/plain": [
       "     GRE Score  TOEFL Score  University Rating  SOP  LOR   CGPA  Research\n",
       "0          337          118                  4  4.5   4.5  9.65         1\n",
       "1          324          107                  4  4.0   4.5  8.87         1\n",
       "2          316          104                  3  3.0   3.5  8.00         1\n",
       "3          322          110                  3  3.5   2.5  8.67         1\n",
       "4          314          103                  2  2.0   3.0  8.21         0\n",
       "..         ...          ...                ...  ...   ...   ...       ...\n",
       "495        332          108                  5  4.5   4.0  9.02         1\n",
       "496        337          117                  5  5.0   5.0  9.87         1\n",
       "497        330          120                  5  4.5   5.0  9.56         1\n",
       "498        312          103                  4  4.0   5.0  8.43         0\n",
       "499        327          113                  4  4.5   4.5  9.04         0\n",
       "\n",
       "[500 rows x 7 columns]"
      ]
     },
     "execution_count": 8,
     "metadata": {},
     "output_type": "execute_result"
    }
   ],
   "source": [
    "X"
   ]
  },
  {
   "cell_type": "code",
   "execution_count": 9,
   "id": "a7b3fb02",
   "metadata": {
    "execution": {
     "iopub.execute_input": "2025-02-26T16:57:40.741800Z",
     "iopub.status.busy": "2025-02-26T16:57:40.741447Z",
     "iopub.status.idle": "2025-02-26T16:57:40.749284Z",
     "shell.execute_reply": "2025-02-26T16:57:40.747910Z"
    },
    "papermill": {
     "duration": 0.014402,
     "end_time": "2025-02-26T16:57:40.750998",
     "exception": false,
     "start_time": "2025-02-26T16:57:40.736596",
     "status": "completed"
    },
    "tags": []
   },
   "outputs": [
    {
     "data": {
      "text/plain": [
       "0      0.92\n",
       "1      0.76\n",
       "2      0.72\n",
       "3      0.80\n",
       "4      0.65\n",
       "       ... \n",
       "495    0.87\n",
       "496    0.96\n",
       "497    0.93\n",
       "498    0.73\n",
       "499    0.84\n",
       "Name: Chance of Admit , Length: 500, dtype: float64"
      ]
     },
     "execution_count": 9,
     "metadata": {},
     "output_type": "execute_result"
    }
   ],
   "source": [
    "y"
   ]
  },
  {
   "cell_type": "code",
   "execution_count": 10,
   "id": "273dbef6",
   "metadata": {
    "execution": {
     "iopub.execute_input": "2025-02-26T16:57:40.761858Z",
     "iopub.status.busy": "2025-02-26T16:57:40.761545Z",
     "iopub.status.idle": "2025-02-26T16:57:58.331839Z",
     "shell.execute_reply": "2025-02-26T16:57:58.330541Z"
    },
    "papermill": {
     "duration": 17.578162,
     "end_time": "2025-02-26T16:57:58.333665",
     "exception": false,
     "start_time": "2025-02-26T16:57:40.755503",
     "status": "completed"
    },
    "tags": []
   },
   "outputs": [],
   "source": [
    "from sklearn.preprocessing import MinMaxScaler\n",
    "from sklearn.model_selection import train_test_split\n",
    "from tensorflow.keras.layers import Input, Dense\n",
    "from tensorflow.keras.models import Sequential\n",
    "from tensorflow.keras.callbacks import ReduceLROnPlateau"
   ]
  },
  {
   "cell_type": "code",
   "execution_count": 11,
   "id": "fbd13c71",
   "metadata": {
    "execution": {
     "iopub.execute_input": "2025-02-26T16:57:58.345367Z",
     "iopub.status.busy": "2025-02-26T16:57:58.344433Z",
     "iopub.status.idle": "2025-02-26T16:57:58.352055Z",
     "shell.execute_reply": "2025-02-26T16:57:58.350768Z"
    },
    "papermill": {
     "duration": 0.015373,
     "end_time": "2025-02-26T16:57:58.353784",
     "exception": false,
     "start_time": "2025-02-26T16:57:58.338411",
     "status": "completed"
    },
    "tags": []
   },
   "outputs": [],
   "source": [
    "X_train, X_test, y_train, y_test = train_test_split(X, y, test_size = 0.2, random_state = 42, shuffle = True)"
   ]
  },
  {
   "cell_type": "code",
   "execution_count": 12,
   "id": "b24553a6",
   "metadata": {
    "execution": {
     "iopub.execute_input": "2025-02-26T16:57:58.363749Z",
     "iopub.status.busy": "2025-02-26T16:57:58.363410Z",
     "iopub.status.idle": "2025-02-26T16:57:58.371652Z",
     "shell.execute_reply": "2025-02-26T16:57:58.370290Z"
    },
    "papermill": {
     "duration": 0.015225,
     "end_time": "2025-02-26T16:57:58.373687",
     "exception": false,
     "start_time": "2025-02-26T16:57:58.358462",
     "status": "completed"
    },
    "tags": []
   },
   "outputs": [],
   "source": [
    "minmax = MinMaxScaler()\n",
    "X_train_scaled = minmax.fit_transform(X_train)\n",
    "X_test_scaled = minmax.transform(X_test)"
   ]
  },
  {
   "cell_type": "code",
   "execution_count": 13,
   "id": "5b37ea24",
   "metadata": {
    "execution": {
     "iopub.execute_input": "2025-02-26T16:57:58.383826Z",
     "iopub.status.busy": "2025-02-26T16:57:58.383441Z",
     "iopub.status.idle": "2025-02-26T16:57:58.465856Z",
     "shell.execute_reply": "2025-02-26T16:57:58.464416Z"
    },
    "papermill": {
     "duration": 0.089369,
     "end_time": "2025-02-26T16:57:58.467649",
     "exception": false,
     "start_time": "2025-02-26T16:57:58.378280",
     "status": "completed"
    },
    "tags": []
   },
   "outputs": [],
   "source": [
    "model = Sequential([\n",
    "    Input(shape = (7,)),\n",
    "    Dense(units = 16, activation = 'relu'),\n",
    "    Dense(units = 1, activation = 'linear')\n",
    "])"
   ]
  },
  {
   "cell_type": "code",
   "execution_count": 14,
   "id": "f0085109",
   "metadata": {
    "execution": {
     "iopub.execute_input": "2025-02-26T16:57:58.477380Z",
     "iopub.status.busy": "2025-02-26T16:57:58.477053Z",
     "iopub.status.idle": "2025-02-26T16:57:58.488139Z",
     "shell.execute_reply": "2025-02-26T16:57:58.487295Z"
    },
    "papermill": {
     "duration": 0.017695,
     "end_time": "2025-02-26T16:57:58.489871",
     "exception": false,
     "start_time": "2025-02-26T16:57:58.472176",
     "status": "completed"
    },
    "tags": []
   },
   "outputs": [],
   "source": [
    "model.compile(\n",
    "    optimizer = 'adam',\n",
    "    loss = 'mean_squared_error',\n",
    "    metrics = ['r2_score']\n",
    ")"
   ]
  },
  {
   "cell_type": "code",
   "execution_count": 15,
   "id": "e6f34f70",
   "metadata": {
    "execution": {
     "iopub.execute_input": "2025-02-26T16:57:58.499955Z",
     "iopub.status.busy": "2025-02-26T16:57:58.499599Z",
     "iopub.status.idle": "2025-02-26T16:58:06.981391Z",
     "shell.execute_reply": "2025-02-26T16:58:06.980454Z"
    },
    "papermill": {
     "duration": 8.488399,
     "end_time": "2025-02-26T16:58:06.982950",
     "exception": false,
     "start_time": "2025-02-26T16:57:58.494551",
     "status": "completed"
    },
    "tags": []
   },
   "outputs": [
    {
     "name": "stdout",
     "output_type": "stream",
     "text": [
      "Epoch 1/100\n",
      "\u001b[1m20/20\u001b[0m \u001b[32m━━━━━━━━━━━━━━━━━━━━\u001b[0m\u001b[37m\u001b[0m \u001b[1m1s\u001b[0m 9ms/step - loss: 0.1633 - r2_score: -8.3326 - val_loss: 0.0491 - val_r2_score: -1.2479\n",
      "Epoch 2/100\n",
      "\u001b[1m20/20\u001b[0m \u001b[32m━━━━━━━━━━━━━━━━━━━━\u001b[0m\u001b[37m\u001b[0m \u001b[1m0s\u001b[0m 3ms/step - loss: 0.0580 - r2_score: -2.6484 - val_loss: 0.0448 - val_r2_score: -1.0503\n",
      "Epoch 3/100\n",
      "\u001b[1m20/20\u001b[0m \u001b[32m━━━━━━━━━━━━━━━━━━━━\u001b[0m\u001b[37m\u001b[0m \u001b[1m0s\u001b[0m 2ms/step - loss: 0.0463 - r2_score: -1.4965 - val_loss: 0.0334 - val_r2_score: -0.5296\n",
      "Epoch 4/100\n",
      "\u001b[1m20/20\u001b[0m \u001b[32m━━━━━━━━━━━━━━━━━━━━\u001b[0m\u001b[37m\u001b[0m \u001b[1m0s\u001b[0m 3ms/step - loss: 0.0331 - r2_score: -0.9347 - val_loss: 0.0274 - val_r2_score: -0.2559\n",
      "Epoch 5/100\n",
      "\u001b[1m20/20\u001b[0m \u001b[32m━━━━━━━━━━━━━━━━━━━━\u001b[0m\u001b[37m\u001b[0m \u001b[1m0s\u001b[0m 3ms/step - loss: 0.0308 - r2_score: -0.6062 - val_loss: 0.0226 - val_r2_score: -0.0327\n",
      "Epoch 6/100\n",
      "\u001b[1m20/20\u001b[0m \u001b[32m━━━━━━━━━━━━━━━━━━━━\u001b[0m\u001b[37m\u001b[0m \u001b[1m0s\u001b[0m 3ms/step - loss: 0.0213 - r2_score: -0.0691 - val_loss: 0.0188 - val_r2_score: 0.1410\n",
      "Epoch 7/100\n",
      "\u001b[1m20/20\u001b[0m \u001b[32m━━━━━━━━━━━━━━━━━━━━\u001b[0m\u001b[37m\u001b[0m \u001b[1m0s\u001b[0m 3ms/step - loss: 0.0187 - r2_score: 0.0759 - val_loss: 0.0159 - val_r2_score: 0.2716\n",
      "Epoch 8/100\n",
      "\u001b[1m20/20\u001b[0m \u001b[32m━━━━━━━━━━━━━━━━━━━━\u001b[0m\u001b[37m\u001b[0m \u001b[1m0s\u001b[0m 3ms/step - loss: 0.0146 - r2_score: 0.2688 - val_loss: 0.0137 - val_r2_score: 0.3751\n",
      "Epoch 9/100\n",
      "\u001b[1m20/20\u001b[0m \u001b[32m━━━━━━━━━━━━━━━━━━━━\u001b[0m\u001b[37m\u001b[0m \u001b[1m0s\u001b[0m 3ms/step - loss: 0.0140 - r2_score: 0.3251 - val_loss: 0.0117 - val_r2_score: 0.4649\n",
      "Epoch 10/100\n",
      "\u001b[1m20/20\u001b[0m \u001b[32m━━━━━━━━━━━━━━━━━━━━\u001b[0m\u001b[37m\u001b[0m \u001b[1m0s\u001b[0m 3ms/step - loss: 0.0116 - r2_score: 0.4112 - val_loss: 0.0103 - val_r2_score: 0.5278\n",
      "Epoch 11/100\n",
      "\u001b[1m20/20\u001b[0m \u001b[32m━━━━━━━━━━━━━━━━━━━━\u001b[0m\u001b[37m\u001b[0m \u001b[1m0s\u001b[0m 3ms/step - loss: 0.0098 - r2_score: 0.4901 - val_loss: 0.0091 - val_r2_score: 0.5829\n",
      "Epoch 12/100\n",
      "\u001b[1m20/20\u001b[0m \u001b[32m━━━━━━━━━━━━━━━━━━━━\u001b[0m\u001b[37m\u001b[0m \u001b[1m0s\u001b[0m 3ms/step - loss: 0.0101 - r2_score: 0.4565 - val_loss: 0.0080 - val_r2_score: 0.6346\n",
      "Epoch 13/100\n",
      "\u001b[1m20/20\u001b[0m \u001b[32m━━━━━━━━━━━━━━━━━━━━\u001b[0m\u001b[37m\u001b[0m \u001b[1m0s\u001b[0m 3ms/step - loss: 0.0078 - r2_score: 0.5827 - val_loss: 0.0068 - val_r2_score: 0.6893\n",
      "Epoch 14/100\n",
      "\u001b[1m20/20\u001b[0m \u001b[32m━━━━━━━━━━━━━━━━━━━━\u001b[0m\u001b[37m\u001b[0m \u001b[1m0s\u001b[0m 3ms/step - loss: 0.0071 - r2_score: 0.6381 - val_loss: 0.0059 - val_r2_score: 0.7318\n",
      "Epoch 15/100\n",
      "\u001b[1m20/20\u001b[0m \u001b[32m━━━━━━━━━━━━━━━━━━━━\u001b[0m\u001b[37m\u001b[0m \u001b[1m0s\u001b[0m 2ms/step - loss: 0.0054 - r2_score: 0.6602 - val_loss: 0.0055 - val_r2_score: 0.7490\n",
      "Epoch 16/100\n",
      "\u001b[1m20/20\u001b[0m \u001b[32m━━━━━━━━━━━━━━━━━━━━\u001b[0m\u001b[37m\u001b[0m \u001b[1m0s\u001b[0m 3ms/step - loss: 0.0060 - r2_score: 0.7011 - val_loss: 0.0050 - val_r2_score: 0.7710\n",
      "Epoch 17/100\n",
      "\u001b[1m20/20\u001b[0m \u001b[32m━━━━━━━━━━━━━━━━━━━━\u001b[0m\u001b[37m\u001b[0m \u001b[1m0s\u001b[0m 3ms/step - loss: 0.0049 - r2_score: 0.7270 - val_loss: 0.0047 - val_r2_score: 0.7828\n",
      "Epoch 18/100\n",
      "\u001b[1m20/20\u001b[0m \u001b[32m━━━━━━━━━━━━━━━━━━━━\u001b[0m\u001b[37m\u001b[0m \u001b[1m0s\u001b[0m 3ms/step - loss: 0.0051 - r2_score: 0.7384 - val_loss: 0.0044 - val_r2_score: 0.8008\n",
      "Epoch 19/100\n",
      "\u001b[1m20/20\u001b[0m \u001b[32m━━━━━━━━━━━━━━━━━━━━\u001b[0m\u001b[37m\u001b[0m \u001b[1m0s\u001b[0m 3ms/step - loss: 0.0049 - r2_score: 0.7604 - val_loss: 0.0042 - val_r2_score: 0.8093\n",
      "Epoch 20/100\n",
      "\u001b[1m20/20\u001b[0m \u001b[32m━━━━━━━━━━━━━━━━━━━━\u001b[0m\u001b[37m\u001b[0m \u001b[1m0s\u001b[0m 2ms/step - loss: 0.0044 - r2_score: 0.7531 - val_loss: 0.0039 - val_r2_score: 0.8230\n",
      "Epoch 21/100\n",
      "\u001b[1m20/20\u001b[0m \u001b[32m━━━━━━━━━━━━━━━━━━━━\u001b[0m\u001b[37m\u001b[0m \u001b[1m0s\u001b[0m 3ms/step - loss: 0.0043 - r2_score: 0.7840 - val_loss: 0.0035 - val_r2_score: 0.8404\n",
      "Epoch 22/100\n",
      "\u001b[1m20/20\u001b[0m \u001b[32m━━━━━━━━━━━━━━━━━━━━\u001b[0m\u001b[37m\u001b[0m \u001b[1m0s\u001b[0m 3ms/step - loss: 0.0048 - r2_score: 0.6652 - val_loss: 0.0033 - val_r2_score: 0.8484\n",
      "Epoch 23/100\n",
      "\u001b[1m20/20\u001b[0m \u001b[32m━━━━━━━━━━━━━━━━━━━━\u001b[0m\u001b[37m\u001b[0m \u001b[1m0s\u001b[0m 3ms/step - loss: 0.0038 - r2_score: 0.8061 - val_loss: 0.0033 - val_r2_score: 0.8480\n",
      "Epoch 24/100\n",
      "\u001b[1m20/20\u001b[0m \u001b[32m━━━━━━━━━━━━━━━━━━━━\u001b[0m\u001b[37m\u001b[0m \u001b[1m0s\u001b[0m 3ms/step - loss: 0.0039 - r2_score: 0.7645 - val_loss: 0.0031 - val_r2_score: 0.8579\n",
      "Epoch 25/100\n",
      "\u001b[1m20/20\u001b[0m \u001b[32m━━━━━━━━━━━━━━━━━━━━\u001b[0m\u001b[37m\u001b[0m \u001b[1m0s\u001b[0m 3ms/step - loss: 0.0046 - r2_score: 0.7463 - val_loss: 0.0031 - val_r2_score: 0.8564\n",
      "Epoch 26/100\n",
      "\u001b[1m20/20\u001b[0m \u001b[32m━━━━━━━━━━━━━━━━━━━━\u001b[0m\u001b[37m\u001b[0m \u001b[1m0s\u001b[0m 3ms/step - loss: 0.0040 - r2_score: 0.7862 - val_loss: 0.0030 - val_r2_score: 0.8606\n",
      "Epoch 27/100\n",
      "\u001b[1m20/20\u001b[0m \u001b[32m━━━━━━━━━━━━━━━━━━━━\u001b[0m\u001b[37m\u001b[0m \u001b[1m0s\u001b[0m 3ms/step - loss: 0.0038 - r2_score: 0.7945 - val_loss: 0.0030 - val_r2_score: 0.8616\n",
      "Epoch 28/100\n",
      "\u001b[1m20/20\u001b[0m \u001b[32m━━━━━━━━━━━━━━━━━━━━\u001b[0m\u001b[37m\u001b[0m \u001b[1m0s\u001b[0m 3ms/step - loss: 0.0034 - r2_score: 0.8100 - val_loss: 0.0030 - val_r2_score: 0.8622\n",
      "Epoch 29/100\n",
      "\u001b[1m20/20\u001b[0m \u001b[32m━━━━━━━━━━━━━━━━━━━━\u001b[0m\u001b[37m\u001b[0m \u001b[1m0s\u001b[0m 3ms/step - loss: 0.0039 - r2_score: 0.7974 - val_loss: 0.0030 - val_r2_score: 0.8636\n",
      "Epoch 30/100\n",
      "\u001b[1m20/20\u001b[0m \u001b[32m━━━━━━━━━━━━━━━━━━━━\u001b[0m\u001b[37m\u001b[0m \u001b[1m0s\u001b[0m 3ms/step - loss: 0.0045 - r2_score: 0.7667 - val_loss: 0.0030 - val_r2_score: 0.8643\n",
      "Epoch 31/100\n",
      "\u001b[1m20/20\u001b[0m \u001b[32m━━━━━━━━━━━━━━━━━━━━\u001b[0m\u001b[37m\u001b[0m \u001b[1m0s\u001b[0m 3ms/step - loss: 0.0037 - r2_score: 0.8031 - val_loss: 0.0030 - val_r2_score: 0.8642\n",
      "Epoch 32/100\n",
      "\u001b[1m20/20\u001b[0m \u001b[32m━━━━━━━━━━━━━━━━━━━━\u001b[0m\u001b[37m\u001b[0m \u001b[1m0s\u001b[0m 3ms/step - loss: 0.0038 - r2_score: 0.7750 - val_loss: 0.0031 - val_r2_score: 0.8581\n",
      "Epoch 33/100\n",
      "\u001b[1m20/20\u001b[0m \u001b[32m━━━━━━━━━━━━━━━━━━━━\u001b[0m\u001b[37m\u001b[0m \u001b[1m0s\u001b[0m 3ms/step - loss: 0.0044 - r2_score: 0.7737 - val_loss: 0.0029 - val_r2_score: 0.8681\n",
      "Epoch 34/100\n",
      "\u001b[1m20/20\u001b[0m \u001b[32m━━━━━━━━━━━━━━━━━━━━\u001b[0m\u001b[37m\u001b[0m \u001b[1m0s\u001b[0m 3ms/step - loss: 0.0052 - r2_score: 0.7501 - val_loss: 0.0029 - val_r2_score: 0.8657\n",
      "Epoch 35/100\n",
      "\u001b[1m20/20\u001b[0m \u001b[32m━━━━━━━━━━━━━━━━━━━━\u001b[0m\u001b[37m\u001b[0m \u001b[1m0s\u001b[0m 3ms/step - loss: 0.0041 - r2_score: 0.7696 - val_loss: 0.0029 - val_r2_score: 0.8690\n",
      "Epoch 36/100\n",
      "\u001b[1m20/20\u001b[0m \u001b[32m━━━━━━━━━━━━━━━━━━━━\u001b[0m\u001b[37m\u001b[0m \u001b[1m0s\u001b[0m 3ms/step - loss: 0.0050 - r2_score: 0.7463 - val_loss: 0.0029 - val_r2_score: 0.8677\n",
      "Epoch 37/100\n",
      "\u001b[1m20/20\u001b[0m \u001b[32m━━━━━━━━━━━━━━━━━━━━\u001b[0m\u001b[37m\u001b[0m \u001b[1m0s\u001b[0m 3ms/step - loss: 0.0034 - r2_score: 0.8220 - val_loss: 0.0029 - val_r2_score: 0.8688\n",
      "Epoch 38/100\n",
      "\u001b[1m20/20\u001b[0m \u001b[32m━━━━━━━━━━━━━━━━━━━━\u001b[0m\u001b[37m\u001b[0m \u001b[1m0s\u001b[0m 3ms/step - loss: 0.0035 - r2_score: 0.8111 - val_loss: 0.0029 - val_r2_score: 0.8690\n",
      "Epoch 39/100\n",
      "\u001b[1m20/20\u001b[0m \u001b[32m━━━━━━━━━━━━━━━━━━━━\u001b[0m\u001b[37m\u001b[0m \u001b[1m0s\u001b[0m 3ms/step - loss: 0.0038 - r2_score: 0.8007 - val_loss: 0.0028 - val_r2_score: 0.8715\n",
      "Epoch 40/100\n",
      "\u001b[1m20/20\u001b[0m \u001b[32m━━━━━━━━━━━━━━━━━━━━\u001b[0m\u001b[37m\u001b[0m \u001b[1m0s\u001b[0m 3ms/step - loss: 0.0035 - r2_score: 0.8244 - val_loss: 0.0029 - val_r2_score: 0.8664\n",
      "Epoch 41/100\n",
      "\u001b[1m20/20\u001b[0m \u001b[32m━━━━━━━━━━━━━━━━━━━━\u001b[0m\u001b[37m\u001b[0m \u001b[1m0s\u001b[0m 3ms/step - loss: 0.0037 - r2_score: 0.7875 - val_loss: 0.0028 - val_r2_score: 0.8725\n",
      "Epoch 42/100\n",
      "\u001b[1m20/20\u001b[0m \u001b[32m━━━━━━━━━━━━━━━━━━━━\u001b[0m\u001b[37m\u001b[0m \u001b[1m0s\u001b[0m 2ms/step - loss: 0.0034 - r2_score: 0.8294 - val_loss: 0.0028 - val_r2_score: 0.8705\n",
      "Epoch 43/100\n",
      "\u001b[1m20/20\u001b[0m \u001b[32m━━━━━━━━━━━━━━━━━━━━\u001b[0m\u001b[37m\u001b[0m \u001b[1m0s\u001b[0m 3ms/step - loss: 0.0033 - r2_score: 0.8158 - val_loss: 0.0028 - val_r2_score: 0.8715\n",
      "Epoch 44/100\n",
      "\u001b[1m20/20\u001b[0m \u001b[32m━━━━━━━━━━━━━━━━━━━━\u001b[0m\u001b[37m\u001b[0m \u001b[1m0s\u001b[0m 3ms/step - loss: 0.0044 - r2_score: 0.7820 - val_loss: 0.0028 - val_r2_score: 0.8739\n",
      "Epoch 45/100\n",
      "\u001b[1m20/20\u001b[0m \u001b[32m━━━━━━━━━━━━━━━━━━━━\u001b[0m\u001b[37m\u001b[0m \u001b[1m0s\u001b[0m 3ms/step - loss: 0.0041 - r2_score: 0.8072 - val_loss: 0.0027 - val_r2_score: 0.8756\n",
      "Epoch 46/100\n",
      "\u001b[1m20/20\u001b[0m \u001b[32m━━━━━━━━━━━━━━━━━━━━\u001b[0m\u001b[37m\u001b[0m \u001b[1m0s\u001b[0m 3ms/step - loss: 0.0039 - r2_score: 0.7697 - val_loss: 0.0027 - val_r2_score: 0.8762\n",
      "Epoch 47/100\n",
      "\u001b[1m20/20\u001b[0m \u001b[32m━━━━━━━━━━━━━━━━━━━━\u001b[0m\u001b[37m\u001b[0m \u001b[1m0s\u001b[0m 2ms/step - loss: 0.0035 - r2_score: 0.8141 - val_loss: 0.0028 - val_r2_score: 0.8726\n",
      "Epoch 48/100\n",
      "\u001b[1m20/20\u001b[0m \u001b[32m━━━━━━━━━━━━━━━━━━━━\u001b[0m\u001b[37m\u001b[0m \u001b[1m0s\u001b[0m 3ms/step - loss: 0.0039 - r2_score: 0.7902 - val_loss: 0.0028 - val_r2_score: 0.8698\n",
      "Epoch 49/100\n",
      "\u001b[1m20/20\u001b[0m \u001b[32m━━━━━━━━━━━━━━━━━━━━\u001b[0m\u001b[37m\u001b[0m \u001b[1m0s\u001b[0m 3ms/step - loss: 0.0036 - r2_score: 0.7961 - val_loss: 0.0027 - val_r2_score: 0.8772\n",
      "Epoch 50/100\n",
      "\u001b[1m20/20\u001b[0m \u001b[32m━━━━━━━━━━━━━━━━━━━━\u001b[0m\u001b[37m\u001b[0m \u001b[1m0s\u001b[0m 3ms/step - loss: 0.0032 - r2_score: 0.8336 - val_loss: 0.0028 - val_r2_score: 0.8705\n",
      "Epoch 51/100\n",
      "\u001b[1m20/20\u001b[0m \u001b[32m━━━━━━━━━━━━━━━━━━━━\u001b[0m\u001b[37m\u001b[0m \u001b[1m0s\u001b[0m 3ms/step - loss: 0.0040 - r2_score: 0.7902 - val_loss: 0.0027 - val_r2_score: 0.8783\n",
      "Epoch 52/100\n",
      "\u001b[1m20/20\u001b[0m \u001b[32m━━━━━━━━━━━━━━━━━━━━\u001b[0m\u001b[37m\u001b[0m \u001b[1m0s\u001b[0m 3ms/step - loss: 0.0045 - r2_score: 0.7724 - val_loss: 0.0028 - val_r2_score: 0.8728\n",
      "Epoch 53/100\n",
      "\u001b[1m20/20\u001b[0m \u001b[32m━━━━━━━━━━━━━━━━━━━━\u001b[0m\u001b[37m\u001b[0m \u001b[1m0s\u001b[0m 2ms/step - loss: 0.0038 - r2_score: 0.7919 - val_loss: 0.0026 - val_r2_score: 0.8800\n",
      "Epoch 54/100\n",
      "\u001b[1m20/20\u001b[0m \u001b[32m━━━━━━━━━━━━━━━━━━━━\u001b[0m\u001b[37m\u001b[0m \u001b[1m0s\u001b[0m 3ms/step - loss: 0.0035 - r2_score: 0.8244 - val_loss: 0.0026 - val_r2_score: 0.8806\n",
      "Epoch 55/100\n",
      "\u001b[1m20/20\u001b[0m \u001b[32m━━━━━━━━━━━━━━━━━━━━\u001b[0m\u001b[37m\u001b[0m \u001b[1m0s\u001b[0m 2ms/step - loss: 0.0034 - r2_score: 0.8212 - val_loss: 0.0027 - val_r2_score: 0.8774\n",
      "Epoch 56/100\n",
      "\u001b[1m20/20\u001b[0m \u001b[32m━━━━━━━━━━━━━━━━━━━━\u001b[0m\u001b[37m\u001b[0m \u001b[1m0s\u001b[0m 3ms/step - loss: 0.0037 - r2_score: 0.8052 - val_loss: 0.0026 - val_r2_score: 0.8817\n",
      "Epoch 57/100\n",
      "\u001b[1m20/20\u001b[0m \u001b[32m━━━━━━━━━━━━━━━━━━━━\u001b[0m\u001b[37m\u001b[0m \u001b[1m0s\u001b[0m 3ms/step - loss: 0.0042 - r2_score: 0.7720 - val_loss: 0.0026 - val_r2_score: 0.8819\n",
      "Epoch 58/100\n",
      "\u001b[1m20/20\u001b[0m \u001b[32m━━━━━━━━━━━━━━━━━━━━\u001b[0m\u001b[37m\u001b[0m \u001b[1m0s\u001b[0m 3ms/step - loss: 0.0043 - r2_score: 0.7989 - val_loss: 0.0025 - val_r2_score: 0.8835\n",
      "Epoch 59/100\n",
      "\u001b[1m20/20\u001b[0m \u001b[32m━━━━━━━━━━━━━━━━━━━━\u001b[0m\u001b[37m\u001b[0m \u001b[1m0s\u001b[0m 3ms/step - loss: 0.0036 - r2_score: 0.8133 - val_loss: 0.0026 - val_r2_score: 0.8818\n",
      "Epoch 60/100\n",
      "\u001b[1m20/20\u001b[0m \u001b[32m━━━━━━━━━━━━━━━━━━━━\u001b[0m\u001b[37m\u001b[0m \u001b[1m0s\u001b[0m 3ms/step - loss: 0.0037 - r2_score: 0.8142 - val_loss: 0.0026 - val_r2_score: 0.8831\n",
      "Epoch 61/100\n",
      "\u001b[1m20/20\u001b[0m \u001b[32m━━━━━━━━━━━━━━━━━━━━\u001b[0m\u001b[37m\u001b[0m \u001b[1m0s\u001b[0m 3ms/step - loss: 0.0030 - r2_score: 0.8296 - val_loss: 0.0026 - val_r2_score: 0.8791\n",
      "Epoch 62/100\n",
      "\u001b[1m20/20\u001b[0m \u001b[32m━━━━━━━━━━━━━━━━━━━━\u001b[0m\u001b[37m\u001b[0m \u001b[1m0s\u001b[0m 2ms/step - loss: 0.0036 - r2_score: 0.8103 - val_loss: 0.0030 - val_r2_score: 0.8606\n",
      "Epoch 63/100\n",
      "\u001b[1m20/20\u001b[0m \u001b[32m━━━━━━━━━━━━━━━━━━━━\u001b[0m\u001b[37m\u001b[0m \u001b[1m0s\u001b[0m 3ms/step - loss: 0.0041 - r2_score: 0.7394 - val_loss: 0.0026 - val_r2_score: 0.8826\n",
      "Epoch 64/100\n",
      "\u001b[1m20/20\u001b[0m \u001b[32m━━━━━━━━━━━━━━━━━━━━\u001b[0m\u001b[37m\u001b[0m \u001b[1m0s\u001b[0m 3ms/step - loss: 0.0036 - r2_score: 0.8261 - val_loss: 0.0025 - val_r2_score: 0.8847\n",
      "Epoch 65/100\n",
      "\u001b[1m20/20\u001b[0m \u001b[32m━━━━━━━━━━━━━━━━━━━━\u001b[0m\u001b[37m\u001b[0m \u001b[1m0s\u001b[0m 3ms/step - loss: 0.0043 - r2_score: 0.7507 - val_loss: 0.0025 - val_r2_score: 0.8856\n",
      "Epoch 66/100\n",
      "\u001b[1m20/20\u001b[0m \u001b[32m━━━━━━━━━━━━━━━━━━━━\u001b[0m\u001b[37m\u001b[0m \u001b[1m0s\u001b[0m 3ms/step - loss: 0.0038 - r2_score: 0.8029 - val_loss: 0.0026 - val_r2_score: 0.8818\n",
      "Epoch 67/100\n",
      "\u001b[1m20/20\u001b[0m \u001b[32m━━━━━━━━━━━━━━━━━━━━\u001b[0m\u001b[37m\u001b[0m \u001b[1m0s\u001b[0m 3ms/step - loss: 0.0033 - r2_score: 0.8120 - val_loss: 0.0025 - val_r2_score: 0.8854\n",
      "Epoch 68/100\n",
      "\u001b[1m20/20\u001b[0m \u001b[32m━━━━━━━━━━━━━━━━━━━━\u001b[0m\u001b[37m\u001b[0m \u001b[1m0s\u001b[0m 3ms/step - loss: 0.0043 - r2_score: 0.7711 - val_loss: 0.0027 - val_r2_score: 0.8769\n",
      "Epoch 69/100\n",
      "\u001b[1m20/20\u001b[0m \u001b[32m━━━━━━━━━━━━━━━━━━━━\u001b[0m\u001b[37m\u001b[0m \u001b[1m0s\u001b[0m 3ms/step - loss: 0.0042 - r2_score: 0.7801 - val_loss: 0.0025 - val_r2_score: 0.8843\n",
      "Epoch 70/100\n",
      "\u001b[1m20/20\u001b[0m \u001b[32m━━━━━━━━━━━━━━━━━━━━\u001b[0m\u001b[37m\u001b[0m \u001b[1m0s\u001b[0m 3ms/step - loss: 0.0037 - r2_score: 0.8112 - val_loss: 0.0027 - val_r2_score: 0.8768\n",
      "Epoch 71/100\n",
      "\u001b[1m20/20\u001b[0m \u001b[32m━━━━━━━━━━━━━━━━━━━━\u001b[0m\u001b[37m\u001b[0m \u001b[1m0s\u001b[0m 3ms/step - loss: 0.0036 - r2_score: 0.8010 - val_loss: 0.0025 - val_r2_score: 0.8841\n",
      "Epoch 72/100\n",
      "\u001b[1m20/20\u001b[0m \u001b[32m━━━━━━━━━━━━━━━━━━━━\u001b[0m\u001b[37m\u001b[0m \u001b[1m0s\u001b[0m 3ms/step - loss: 0.0038 - r2_score: 0.8073 - val_loss: 0.0024 - val_r2_score: 0.8886\n",
      "Epoch 73/100\n",
      "\u001b[1m20/20\u001b[0m \u001b[32m━━━━━━━━━━━━━━━━━━━━\u001b[0m\u001b[37m\u001b[0m \u001b[1m0s\u001b[0m 3ms/step - loss: 0.0042 - r2_score: 0.7815 - val_loss: 0.0025 - val_r2_score: 0.8877\n",
      "Epoch 74/100\n",
      "\u001b[1m20/20\u001b[0m \u001b[32m━━━━━━━━━━━━━━━━━━━━\u001b[0m\u001b[37m\u001b[0m \u001b[1m0s\u001b[0m 3ms/step - loss: 0.0040 - r2_score: 0.8049 - val_loss: 0.0025 - val_r2_score: 0.8870\n",
      "Epoch 75/100\n",
      "\u001b[1m20/20\u001b[0m \u001b[32m━━━━━━━━━━━━━━━━━━━━\u001b[0m\u001b[37m\u001b[0m \u001b[1m0s\u001b[0m 3ms/step - loss: 0.0035 - r2_score: 0.8083 - val_loss: 0.0025 - val_r2_score: 0.8842\n",
      "Epoch 76/100\n",
      "\u001b[1m20/20\u001b[0m \u001b[32m━━━━━━━━━━━━━━━━━━━━\u001b[0m\u001b[37m\u001b[0m \u001b[1m0s\u001b[0m 3ms/step - loss: 0.0036 - r2_score: 0.7943 - val_loss: 0.0025 - val_r2_score: 0.8841\n",
      "Epoch 77/100\n",
      "\u001b[1m20/20\u001b[0m \u001b[32m━━━━━━━━━━━━━━━━━━━━\u001b[0m\u001b[37m\u001b[0m \u001b[1m0s\u001b[0m 3ms/step - loss: 0.0038 - r2_score: 0.8007 - val_loss: 0.0026 - val_r2_score: 0.8800\n",
      "Epoch 78/100\n",
      "\u001b[1m20/20\u001b[0m \u001b[32m━━━━━━━━━━━━━━━━━━━━\u001b[0m\u001b[37m\u001b[0m \u001b[1m0s\u001b[0m 3ms/step - loss: 0.0037 - r2_score: 0.7846 - val_loss: 0.0024 - val_r2_score: 0.8888\n",
      "Epoch 79/100\n",
      "\u001b[1m20/20\u001b[0m \u001b[32m━━━━━━━━━━━━━━━━━━━━\u001b[0m\u001b[37m\u001b[0m \u001b[1m0s\u001b[0m 3ms/step - loss: 0.0035 - r2_score: 0.8152 - val_loss: 0.0024 - val_r2_score: 0.8879\n",
      "Epoch 80/100\n",
      "\u001b[1m20/20\u001b[0m \u001b[32m━━━━━━━━━━━━━━━━━━━━\u001b[0m\u001b[37m\u001b[0m \u001b[1m0s\u001b[0m 3ms/step - loss: 0.0039 - r2_score: 0.7906 - val_loss: 0.0024 - val_r2_score: 0.8883\n",
      "Epoch 81/100\n",
      "\u001b[1m20/20\u001b[0m \u001b[32m━━━━━━━━━━━━━━━━━━━━\u001b[0m\u001b[37m\u001b[0m \u001b[1m0s\u001b[0m 3ms/step - loss: 0.0039 - r2_score: 0.8094 - val_loss: 0.0024 - val_r2_score: 0.8889\n",
      "Epoch 82/100\n",
      "\u001b[1m20/20\u001b[0m \u001b[32m━━━━━━━━━━━━━━━━━━━━\u001b[0m\u001b[37m\u001b[0m \u001b[1m0s\u001b[0m 3ms/step - loss: 0.0036 - r2_score: 0.7977 - val_loss: 0.0024 - val_r2_score: 0.8891\n",
      "Epoch 83/100\n",
      "\u001b[1m20/20\u001b[0m \u001b[32m━━━━━━━━━━━━━━━━━━━━\u001b[0m\u001b[37m\u001b[0m \u001b[1m0s\u001b[0m 3ms/step - loss: 0.0037 - r2_score: 0.7951 - val_loss: 0.0024 - val_r2_score: 0.8884\n",
      "Epoch 84/100\n",
      "\u001b[1m20/20\u001b[0m \u001b[32m━━━━━━━━━━━━━━━━━━━━\u001b[0m\u001b[37m\u001b[0m \u001b[1m0s\u001b[0m 3ms/step - loss: 0.0040 - r2_score: 0.7893 - val_loss: 0.0025 - val_r2_score: 0.8875\n",
      "Epoch 85/100\n",
      "\u001b[1m20/20\u001b[0m \u001b[32m━━━━━━━━━━━━━━━━━━━━\u001b[0m\u001b[37m\u001b[0m \u001b[1m0s\u001b[0m 3ms/step - loss: 0.0042 - r2_score: 0.7757 - val_loss: 0.0026 - val_r2_score: 0.8790\n",
      "Epoch 86/100\n",
      "\u001b[1m20/20\u001b[0m \u001b[32m━━━━━━━━━━━━━━━━━━━━\u001b[0m\u001b[37m\u001b[0m \u001b[1m0s\u001b[0m 3ms/step - loss: 0.0030 - r2_score: 0.8237 - val_loss: 0.0024 - val_r2_score: 0.8896\n",
      "Epoch 87/100\n",
      "\u001b[1m20/20\u001b[0m \u001b[32m━━━━━━━━━━━━━━━━━━━━\u001b[0m\u001b[37m\u001b[0m \u001b[1m0s\u001b[0m 3ms/step - loss: 0.0038 - r2_score: 0.8163 - val_loss: 0.0024 - val_r2_score: 0.8883\n",
      "Epoch 88/100\n",
      "\u001b[1m20/20\u001b[0m \u001b[32m━━━━━━━━━━━━━━━━━━━━\u001b[0m\u001b[37m\u001b[0m \u001b[1m0s\u001b[0m 3ms/step - loss: 0.0041 - r2_score: 0.7999 - val_loss: 0.0024 - val_r2_score: 0.8898\n",
      "Epoch 89/100\n",
      "\u001b[1m20/20\u001b[0m \u001b[32m━━━━━━━━━━━━━━━━━━━━\u001b[0m\u001b[37m\u001b[0m \u001b[1m0s\u001b[0m 2ms/step - loss: 0.0041 - r2_score: 0.7733 - val_loss: 0.0024 - val_r2_score: 0.8893\n",
      "Epoch 90/100\n",
      "\u001b[1m20/20\u001b[0m \u001b[32m━━━━━━━━━━━━━━━━━━━━\u001b[0m\u001b[37m\u001b[0m \u001b[1m0s\u001b[0m 3ms/step - loss: 0.0041 - r2_score: 0.7773 - val_loss: 0.0024 - val_r2_score: 0.8893\n",
      "Epoch 91/100\n",
      "\u001b[1m20/20\u001b[0m \u001b[32m━━━━━━━━━━━━━━━━━━━━\u001b[0m\u001b[37m\u001b[0m \u001b[1m0s\u001b[0m 3ms/step - loss: 0.0032 - r2_score: 0.8276 - val_loss: 0.0025 - val_r2_score: 0.8874\n",
      "Epoch 92/100\n",
      "\u001b[1m20/20\u001b[0m \u001b[32m━━━━━━━━━━━━━━━━━━━━\u001b[0m\u001b[37m\u001b[0m \u001b[1m0s\u001b[0m 3ms/step - loss: 0.0043 - r2_score: 0.7567 - val_loss: 0.0025 - val_r2_score: 0.8853\n",
      "Epoch 93/100\n",
      "\u001b[1m20/20\u001b[0m \u001b[32m━━━━━━━━━━━━━━━━━━━━\u001b[0m\u001b[37m\u001b[0m \u001b[1m0s\u001b[0m 3ms/step - loss: 0.0040 - r2_score: 0.7497 - val_loss: 0.0024 - val_r2_score: 0.8888\n",
      "Epoch 94/100\n",
      "\u001b[1m20/20\u001b[0m \u001b[32m━━━━━━━━━━━━━━━━━━━━\u001b[0m\u001b[37m\u001b[0m \u001b[1m0s\u001b[0m 3ms/step - loss: 0.0038 - r2_score: 0.8059 - val_loss: 0.0024 - val_r2_score: 0.8907\n",
      "Epoch 95/100\n",
      "\u001b[1m20/20\u001b[0m \u001b[32m━━━━━━━━━━━━━━━━━━━━\u001b[0m\u001b[37m\u001b[0m \u001b[1m0s\u001b[0m 3ms/step - loss: 0.0028 - r2_score: 0.8411 - val_loss: 0.0025 - val_r2_score: 0.8862\n",
      "Epoch 96/100\n",
      "\u001b[1m20/20\u001b[0m \u001b[32m━━━━━━━━━━━━━━━━━━━━\u001b[0m\u001b[37m\u001b[0m \u001b[1m0s\u001b[0m 3ms/step - loss: 0.0039 - r2_score: 0.7922 - val_loss: 0.0024 - val_r2_score: 0.8889\n",
      "Epoch 97/100\n",
      "\u001b[1m20/20\u001b[0m \u001b[32m━━━━━━━━━━━━━━━━━━━━\u001b[0m\u001b[37m\u001b[0m \u001b[1m0s\u001b[0m 3ms/step - loss: 0.0036 - r2_score: 0.8229 - val_loss: 0.0024 - val_r2_score: 0.8914\n",
      "Epoch 98/100\n",
      "\u001b[1m20/20\u001b[0m \u001b[32m━━━━━━━━━━━━━━━━━━━━\u001b[0m\u001b[37m\u001b[0m \u001b[1m0s\u001b[0m 3ms/step - loss: 0.0031 - r2_score: 0.8097 - val_loss: 0.0025 - val_r2_score: 0.8845\n",
      "Epoch 99/100\n",
      "\u001b[1m20/20\u001b[0m \u001b[32m━━━━━━━━━━━━━━━━━━━━\u001b[0m\u001b[37m\u001b[0m \u001b[1m0s\u001b[0m 3ms/step - loss: 0.0038 - r2_score: 0.7989 - val_loss: 0.0027 - val_r2_score: 0.8771\n",
      "Epoch 100/100\n",
      "\u001b[1m20/20\u001b[0m \u001b[32m━━━━━━━━━━━━━━━━━━━━\u001b[0m\u001b[37m\u001b[0m \u001b[1m0s\u001b[0m 3ms/step - loss: 0.0037 - r2_score: 0.8089 - val_loss: 0.0027 - val_r2_score: 0.8773\n"
     ]
    }
   ],
   "source": [
    "history = model.fit(\n",
    "    X_train_scaled,\n",
    "    y_train,\n",
    "    epochs = 100,\n",
    "    batch_size = 16,\n",
    "    verbose = 1,\n",
    "    validation_split = 0.2\n",
    ")"
   ]
  },
  {
   "cell_type": "code",
   "execution_count": 16,
   "id": "5db18540",
   "metadata": {
    "execution": {
     "iopub.execute_input": "2025-02-26T16:58:07.018754Z",
     "iopub.status.busy": "2025-02-26T16:58:07.018392Z",
     "iopub.status.idle": "2025-02-26T16:58:07.130500Z",
     "shell.execute_reply": "2025-02-26T16:58:07.129024Z"
    },
    "papermill": {
     "duration": 0.132709,
     "end_time": "2025-02-26T16:58:07.132215",
     "exception": false,
     "start_time": "2025-02-26T16:58:06.999506",
     "status": "completed"
    },
    "tags": []
   },
   "outputs": [
    {
     "name": "stdout",
     "output_type": "stream",
     "text": [
      "\u001b[1m4/4\u001b[0m \u001b[32m━━━━━━━━━━━━━━━━━━━━\u001b[0m\u001b[37m\u001b[0m \u001b[1m0s\u001b[0m 8ms/step \n"
     ]
    }
   ],
   "source": [
    "y_pred = model.predict(X_test_scaled)"
   ]
  },
  {
   "cell_type": "code",
   "execution_count": 17,
   "id": "cffe2b39",
   "metadata": {
    "execution": {
     "iopub.execute_input": "2025-02-26T16:58:07.164277Z",
     "iopub.status.busy": "2025-02-26T16:58:07.163861Z",
     "iopub.status.idle": "2025-02-26T16:58:07.169156Z",
     "shell.execute_reply": "2025-02-26T16:58:07.168368Z"
    },
    "papermill": {
     "duration": 0.022855,
     "end_time": "2025-02-26T16:58:07.170670",
     "exception": false,
     "start_time": "2025-02-26T16:58:07.147815",
     "status": "completed"
    },
    "tags": []
   },
   "outputs": [
    {
     "data": {
      "text/plain": [
       "dict_keys(['loss', 'r2_score', 'val_loss', 'val_r2_score'])"
      ]
     },
     "execution_count": 17,
     "metadata": {},
     "output_type": "execute_result"
    }
   ],
   "source": [
    "history.history.keys()"
   ]
  },
  {
   "cell_type": "code",
   "execution_count": 18,
   "id": "d963dfc1",
   "metadata": {
    "execution": {
     "iopub.execute_input": "2025-02-26T16:58:07.203214Z",
     "iopub.status.busy": "2025-02-26T16:58:07.202806Z",
     "iopub.status.idle": "2025-02-26T16:58:07.208962Z",
     "shell.execute_reply": "2025-02-26T16:58:07.208077Z"
    },
    "papermill": {
     "duration": 0.024091,
     "end_time": "2025-02-26T16:58:07.210676",
     "exception": false,
     "start_time": "2025-02-26T16:58:07.186585",
     "status": "completed"
    },
    "tags": []
   },
   "outputs": [
    {
     "data": {
      "text/plain": [
       "0.8292792578320612"
      ]
     },
     "execution_count": 18,
     "metadata": {},
     "output_type": "execute_result"
    }
   ],
   "source": [
    "from sklearn.metrics import r2_score\n",
    "r2_score(y_test, y_pred)"
   ]
  },
  {
   "cell_type": "code",
   "execution_count": 19,
   "id": "15c24276",
   "metadata": {
    "execution": {
     "iopub.execute_input": "2025-02-26T16:58:07.242942Z",
     "iopub.status.busy": "2025-02-26T16:58:07.242616Z",
     "iopub.status.idle": "2025-02-26T16:58:07.247186Z",
     "shell.execute_reply": "2025-02-26T16:58:07.245956Z"
    },
    "papermill": {
     "duration": 0.022184,
     "end_time": "2025-02-26T16:58:07.248804",
     "exception": false,
     "start_time": "2025-02-26T16:58:07.226620",
     "status": "completed"
    },
    "tags": []
   },
   "outputs": [
    {
     "name": "stdout",
     "output_type": "stream",
     "text": [
      "Loss 0.0036815949715673923\n",
      "Validation Loss 0.0026825808454304934\n"
     ]
    }
   ],
   "source": [
    "print(f\"Loss {history.history['loss'][-1]}\")\n",
    "print(f\"Validation Loss {history.history['val_loss'][-1]}\")"
   ]
  },
  {
   "cell_type": "code",
   "execution_count": 20,
   "id": "03125669",
   "metadata": {
    "execution": {
     "iopub.execute_input": "2025-02-26T16:58:07.283761Z",
     "iopub.status.busy": "2025-02-26T16:58:07.283463Z",
     "iopub.status.idle": "2025-02-26T16:58:07.565365Z",
     "shell.execute_reply": "2025-02-26T16:58:07.564418Z"
    },
    "papermill": {
     "duration": 0.302361,
     "end_time": "2025-02-26T16:58:07.567152",
     "exception": false,
     "start_time": "2025-02-26T16:58:07.264791",
     "status": "completed"
    },
    "tags": []
   },
   "outputs": [
    {
     "data": {
      "image/png": "[encoded data removed]",
      "text/plain": [
       "<Figure size 640x480 with 1 Axes>"
      ]
     },
     "metadata": {},
     "output_type": "display_data"
    }
   ],
   "source": [
    "import matplotlib.pyplot as plt\n",
    "plt.plot(history.history['loss'], label = 'Loss')\n",
    "plt.plot(history.history['val_loss'], label = 'Validation Loss')\n",
    "plt.xlabel(\"Epochs\")\n",
    "plt.ylabel(\"Loss\")\n",
    "plt.title(\"Training Loss vs Validation Loss\")\n",
    "plt.legend()\n",
    "plt.show()"
   ]
  },
  {
   "cell_type": "code",
   "execution_count": 21,
   "id": "5f00358f",
   "metadata": {
    "execution": {
     "iopub.execute_input": "2025-02-26T16:58:07.601977Z",
     "iopub.status.busy": "2025-02-26T16:58:07.601609Z",
     "iopub.status.idle": "2025-02-26T16:58:07.606928Z",
     "shell.execute_reply": "2025-02-26T16:58:07.605582Z"
    },
    "papermill": {
     "duration": 0.024399,
     "end_time": "2025-02-26T16:58:07.608319",
     "exception": false,
     "start_time": "2025-02-26T16:58:07.583920",
     "status": "completed"
    },
    "tags": []
   },
   "outputs": [
    {
     "name": "stdout",
     "output_type": "stream",
     "text": [
      "R2 Score:0.8075984120368958\n",
      "Validation R2 Score:0.8772692680358887\n"
     ]
    }
   ],
   "source": [
    "print(f\"R2 Score:{history.history['r2_score'][-1]}\")\n",
    "print(f\"Validation R2 Score:{history.history['val_r2_score'][-1]}\")"
   ]
  },
  {
   "cell_type": "code",
   "execution_count": 22,
   "id": "1dab62bc",
   "metadata": {
    "execution": {
     "iopub.execute_input": "2025-02-26T16:58:07.643188Z",
     "iopub.status.busy": "2025-02-26T16:58:07.642786Z",
     "iopub.status.idle": "2025-02-26T16:58:07.815560Z",
     "shell.execute_reply": "2025-02-26T16:58:07.814436Z"
    },
    "papermill": {
     "duration": 0.192195,
     "end_time": "2025-02-26T16:58:07.817580",
     "exception": false,
     "start_time": "2025-02-26T16:58:07.625385",
     "status": "completed"
    },
    "tags": []
   },
   "outputs": [
    {
     "data": {
      "image/png": "[encoded data removed]",
      "text/plain": [
       "<Figure size 640x480 with 1 Axes>"
      ]
     },
     "metadata": {},
     "output_type": "display_data"
    }
   ],
   "source": [
    "plt.plot(history.history['r2_score'], label = 'R2_score')\n",
    "plt.plot(history.history['val_r2_score'], label = 'Validation R2_score')\n",
    "plt.xlabel(\"Epochs\")\n",
    "plt.ylabel(\"R2_score\")\n",
    "plt.title(\"Training R2_score vs Validation R2_score\")\n",
    "plt.legend()\n",
    "plt.show()"
   ]
  },
  {
   "cell_type": "code",
   "execution_count": 23,
   "id": "5b66a079",
   "metadata": {
    "execution": {
     "iopub.execute_input": "2025-02-26T16:58:07.853455Z",
     "iopub.status.busy": "2025-02-26T16:58:07.853129Z",
     "iopub.status.idle": "2025-02-26T16:58:07.912869Z",
     "shell.execute_reply": "2025-02-26T16:58:07.912012Z"
    },
    "papermill": {
     "duration": 0.079173,
     "end_time": "2025-02-26T16:58:07.914403",
     "exception": false,
     "start_time": "2025-02-26T16:58:07.835230",
     "status": "completed"
    },
    "tags": []
   },
   "outputs": [
    {
     "name": "stdout",
     "output_type": "stream",
     "text": [
      "\u001b[1m1/1\u001b[0m \u001b[32m━━━━━━━━━━━━━━━━━━━━\u001b[0m\u001b[37m\u001b[0m \u001b[1m0s\u001b[0m 16ms/step\n"
     ]
    },
    {
     "data": {
      "text/plain": [
       "array([[0.8993659]], dtype=float32)"
      ]
     },
     "execution_count": 23,
     "metadata": {},
     "output_type": "execute_result"
    }
   ],
   "source": [
    "model.predict(X_test_scaled[:1])"
   ]
  },
  {
   "cell_type": "code",
   "execution_count": 24,
   "id": "ba20a16d",
   "metadata": {
    "execution": {
     "iopub.execute_input": "2025-02-26T16:58:07.952499Z",
     "iopub.status.busy": "2025-02-26T16:58:07.952165Z",
     "iopub.status.idle": "2025-02-26T16:58:07.958828Z",
     "shell.execute_reply": "2025-02-26T16:58:07.957488Z"
    },
    "papermill": {
     "duration": 0.026678,
     "end_time": "2025-02-26T16:58:07.960364",
     "exception": false,
     "start_time": "2025-02-26T16:58:07.933686",
     "status": "completed"
    },
    "tags": []
   },
   "outputs": [
    {
     "data": {
      "text/plain": [
       "0.92"
      ]
     },
     "execution_count": 24,
     "metadata": {},
     "output_type": "execute_result"
    }
   ],
   "source": [
    "y_test[0]"
   ]
  }
 ],
 "metadata": {
  "kaggle": {
   "accelerator": "none",
   "dataSources": [
    {
     "datasetId": 14872,
     "sourceId": 228180,
     "sourceType": "datasetVersion"
    }
   ],
   "dockerImageVersionId": 30918,
   "isGpuEnabled": false,
   "isInternetEnabled": true,
   "language": "python",
   "sourceType": "notebook"
  },
  "kernelspec": {
   "display_name": "Python 3",
   "language": "python",
   "name": "python3"
  },
  "language_info": {
   "codemirror_mode": {
    "name": "ipython",
    "version": 3
   },
   "file_extension": ".py",
   "mimetype": "text/x-python",
   "name": "python",
   "nbconvert_exporter": "python",
   "pygments_lexer": "ipython3",
   "version": "3.10.12"
  },
  "papermill": {
   "default_parameters": {},
   "duration": 33.493758,
   "end_time": "2025-02-26T16:58:10.413881",
   "environment_variables": {},
   "exception": null,
   "input_path": "__notebook__.ipynb",
   "output_path": "__notebook__.ipynb",
   "parameters": {},
   "start_time": "2025-02-26T16:57:36.920123",
   "version": "2.6.0"
  }
 },
 "nbformat": 4,
 "nbformat_minor": 5
}
